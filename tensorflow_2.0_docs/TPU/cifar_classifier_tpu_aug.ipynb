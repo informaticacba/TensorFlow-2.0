{
  "nbformat": 4,
  "nbformat_minor": 0,
  "metadata": {
    "colab": {
      "name": "cifar-classifier-tpu-aug.ipynb",
      "provenance": [],
      "collapsed_sections": [],
      "toc_visible": true,
      "include_colab_link": true
    },
    "kernelspec": {
      "name": "python3",
      "display_name": "Python 3"
    },
    "accelerator": "TPU"
  },
  "cells": [
    {
      "cell_type": "markdown",
      "metadata": {
        "id": "view-in-github",
        "colab_type": "text"
      },
      "source": [
        "<a href=\"https://colab.research.google.com/github/sourcecode369/TensorFlow-2.0/blob/master/tensorflow_2.0_docs/TPU/cifar_classifier_tpu_aug.ipynb\" target=\"_parent\"><img src=\"https://colab.research.google.com/assets/colab-badge.svg\" alt=\"Open In Colab\"/></a>"
      ]
    },
    {
      "cell_type": "markdown",
      "metadata": {
        "id": "z_ET40x6HpsB",
        "colab_type": "text"
      },
      "source": [
        "Source: \n",
        "* https://medium.com/@jannik.zuern/using-a-tpu-in-google-colab-54257328d7da\n",
        "* https://colab.research.google.com/github/tensorflow/tpu/blob/master/tools/colab/fashion_mnist.ipynb#scrollTo=pWEYmd_hIWg8"
      ]
    },
    {
      "cell_type": "code",
      "metadata": {
        "id": "z0DRPKl39290",
        "colab_type": "code",
        "colab": {}
      },
      "source": [
        "import os\n",
        "import pickle\n",
        "\n",
        "# tensorflow imports\n",
        "import tensorflow as tf\n",
        "from tensorflow.contrib.training import HParams\n",
        "\n",
        "# tf.keras imports\n",
        "from tensorflow.keras import Model\n",
        "from tensorflow.keras.layers import Dense, Conv2D, Activation, Flatten\n",
        "from tensorflow.keras.layers import BatchNormalization, AveragePooling2D, Input\n",
        "\n",
        "# import for showing the confusion matrix\n",
        "import itertools\n",
        "from sklearn.metrics import confusion_matrix\n",
        "import matplotlib.pyplot as plt\n",
        "import numpy as np"
      ],
      "execution_count": 0,
      "outputs": []
    },
    {
      "cell_type": "code",
      "metadata": {
        "id": "9Ohk-wk-Ht9U",
        "colab_type": "code",
        "outputId": "91762ab1-f53a-4e41-a557-ac4d807787e2",
        "colab": {
          "base_uri": "https://localhost:8080/",
          "height": 35
        }
      },
      "source": [
        "tf.__version__"
      ],
      "execution_count": 0,
      "outputs": [
        {
          "output_type": "execute_result",
          "data": {
            "text/plain": [
              "'1.13.1'"
            ]
          },
          "metadata": {
            "tags": []
          },
          "execution_count": 2
        }
      ]
    },
    {
      "cell_type": "markdown",
      "metadata": {
        "id": "EJJ9RthRS9Fv",
        "colab_type": "text"
      },
      "source": [
        "Define hyperparameters for training"
      ]
    },
    {
      "cell_type": "code",
      "metadata": {
        "id": "KZtezQ4qD-lU",
        "colab_type": "code",
        "colab": {}
      },
      "source": [
        "hparams = HParams(\n",
        "    n_classes=10,  # number of different classes in dataset\n",
        "    learning_rate=1e-3,  # fixed learning rate\n",
        "    train_batch_size=128*8,  # training batch size\n",
        "    val_batch_size=128*8,  # validation batch size\n",
        "    n_epochs=60,  # number of epochs to train\n",
        "    input_name='input_1',  # name of the input tensor for first layer of Keras model\n",
        "    data_dir='/tmp/cifar-data/',  # path to data directory\n",
        "    checkpoint_dir='/tmp/checkpoints/'  # path to model checkpoint directory\n",
        ")"
      ],
      "execution_count": 0,
      "outputs": []
    },
    {
      "cell_type": "code",
      "metadata": {
        "id": "UtMeD3n-IMFH",
        "colab_type": "code",
        "outputId": "d5478aaf-f460-498b-c868-d662bd081b63",
        "colab": {
          "base_uri": "https://localhost:8080/",
          "height": 164
        }
      },
      "source": [
        "!df -h"
      ],
      "execution_count": 0,
      "outputs": [
        {
          "output_type": "stream",
          "text": [
            "Filesystem      Size  Used Avail Use% Mounted on\n",
            "overlay          49G   21G   26G  46% /\n",
            "tmpfs           6.4G     0  6.4G   0% /dev\n",
            "tmpfs           6.4G     0  6.4G   0% /sys/fs/cgroup\n",
            "tmpfs           6.4G  8.0K  6.4G   1% /var/colab\n",
            "/dev/sda1        55G   22G   34G  40% /etc/hosts\n",
            "shm             6.0G     0  6.0G   0% /dev/shm\n",
            "tmpfs           6.4G     0  6.4G   0% /sys/firmware\n"
          ],
          "name": "stdout"
        }
      ]
    },
    {
      "cell_type": "markdown",
      "metadata": {
        "id": "0KqmhIDXTKK7",
        "colab_type": "text"
      },
      "source": [
        "## Data download and preprocessing"
      ]
    },
    {
      "cell_type": "markdown",
      "metadata": {
        "id": "VuC2mMKOIIRJ",
        "colab_type": "text"
      },
      "source": [
        "This code is boilerplate code for downloading and preprocessing of the CIFAR-10 dataset. Credits to [Hvass-Labs](https://github.com/Hvass-Labs/TensorFlow-Tutorials/blob/master/cifar10.py)."
      ]
    },
    {
      "cell_type": "code",
      "metadata": {
        "id": "14MHCUDo0s82",
        "colab_type": "code",
        "outputId": "a859c0fa-a42a-4f3d-a45c-c965546dd4f4",
        "colab": {
          "base_uri": "https://localhost:8080/",
          "height": 368
        }
      },
      "source": [
        "!pip install albumentations"
      ],
      "execution_count": 0,
      "outputs": [
        {
          "output_type": "stream",
          "text": [
            "Requirement already satisfied: albumentations in /usr/local/lib/python3.6/dist-packages (0.1.12)\n",
            "Requirement already satisfied: numpy>=1.11.1 in /usr/local/lib/python3.6/dist-packages (from albumentations) (1.14.6)\n",
            "Requirement already satisfied: scipy in /usr/local/lib/python3.6/dist-packages (from albumentations) (1.1.0)\n",
            "Requirement already satisfied: opencv-python in /usr/local/lib/python3.6/dist-packages (from albumentations) (3.4.5.20)\n",
            "Requirement already satisfied: imgaug<0.2.7,>=0.2.5 in /usr/local/lib/python3.6/dist-packages (from albumentations) (0.2.6)\n",
            "Requirement already satisfied: six in /usr/local/lib/python3.6/dist-packages (from imgaug<0.2.7,>=0.2.5->albumentations) (1.11.0)\n",
            "Requirement already satisfied: scikit-image>=0.11.0 in /usr/local/lib/python3.6/dist-packages (from imgaug<0.2.7,>=0.2.5->albumentations) (0.13.1)\n",
            "Requirement already satisfied: matplotlib>=1.3.1 in /usr/local/lib/python3.6/dist-packages (from scikit-image>=0.11.0->imgaug<0.2.7,>=0.2.5->albumentations) (3.0.3)\n",
            "Requirement already satisfied: pillow>=2.1.0 in /usr/local/lib/python3.6/dist-packages (from scikit-image>=0.11.0->imgaug<0.2.7,>=0.2.5->albumentations) (4.1.1)\n",
            "Requirement already satisfied: networkx>=1.8 in /usr/local/lib/python3.6/dist-packages (from scikit-image>=0.11.0->imgaug<0.2.7,>=0.2.5->albumentations) (2.2)\n",
            "Requirement already satisfied: PyWavelets>=0.4.0 in /usr/local/lib/python3.6/dist-packages (from scikit-image>=0.11.0->imgaug<0.2.7,>=0.2.5->albumentations) (1.0.2)\n",
            "Requirement already satisfied: cycler>=0.10 in /usr/local/lib/python3.6/dist-packages (from matplotlib>=1.3.1->scikit-image>=0.11.0->imgaug<0.2.7,>=0.2.5->albumentations) (0.10.0)\n",
            "Requirement already satisfied: python-dateutil>=2.1 in /usr/local/lib/python3.6/dist-packages (from matplotlib>=1.3.1->scikit-image>=0.11.0->imgaug<0.2.7,>=0.2.5->albumentations) (2.5.3)\n",
            "Requirement already satisfied: kiwisolver>=1.0.1 in /usr/local/lib/python3.6/dist-packages (from matplotlib>=1.3.1->scikit-image>=0.11.0->imgaug<0.2.7,>=0.2.5->albumentations) (1.0.1)\n",
            "Requirement already satisfied: pyparsing!=2.0.4,!=2.1.2,!=2.1.6,>=2.0.1 in /usr/local/lib/python3.6/dist-packages (from matplotlib>=1.3.1->scikit-image>=0.11.0->imgaug<0.2.7,>=0.2.5->albumentations) (2.3.1)\n",
            "Requirement already satisfied: olefile in /usr/local/lib/python3.6/dist-packages (from pillow>=2.1.0->scikit-image>=0.11.0->imgaug<0.2.7,>=0.2.5->albumentations) (0.46)\n",
            "Requirement already satisfied: decorator>=4.3.0 in /usr/local/lib/python3.6/dist-packages (from networkx>=1.8->scikit-image>=0.11.0->imgaug<0.2.7,>=0.2.5->albumentations) (4.4.0)\n",
            "Requirement already satisfied: setuptools in /usr/local/lib/python3.6/dist-packages (from kiwisolver>=1.0.1->matplotlib>=1.3.1->scikit-image>=0.11.0->imgaug<0.2.7,>=0.2.5->albumentations) (40.8.0)\n"
          ],
          "name": "stdout"
        }
      ]
    },
    {
      "cell_type": "code",
      "metadata": {
        "id": "FsMz27uZ0vBn",
        "colab_type": "code",
        "colab": {}
      },
      "source": [
        "from albumentations import (\n",
        "    Compose, HorizontalFlip, Rotate, CLAHE, HueSaturationValue,\n",
        "    RandomBrightness, RandomContrast, RandomGamma, JpegCompression,\n",
        "    ToFloat, ShiftScaleRotate\n",
        ")\n",
        "import cv2"
      ],
      "execution_count": 0,
      "outputs": []
    },
    {
      "cell_type": "code",
      "metadata": {
        "id": "EajrUBCS0TnW",
        "colab_type": "code",
        "colab": {}
      },
      "source": [
        "AUGMENTATIONS_TRAIN = Compose([\n",
        "    HorizontalFlip(p=0.5),\n",
        "    RandomContrast(limit=0.2, p=0.5),\n",
        "    RandomGamma(gamma_limit=(80, 120), p=0.5),\n",
        "    RandomBrightness(limit=0.2, p=0.5),\n",
        "    HueSaturationValue(hue_shift_limit=5, sat_shift_limit=20,\n",
        "                       val_shift_limit=10, p=.9),\n",
        "    # CLAHE(p=1.0, clip_limit=2.0),\n",
        "    ShiftScaleRotate(\n",
        "        shift_limit=0.0625, scale_limit=0.1, \n",
        "        rotate_limit=15, border_mode=cv2.BORDER_REFLECT_101, p=0.8), \n",
        "    # Rotate(limit=15, border_mode=cv2.BORDER_REFLECT_101),\n",
        "    # JpegCompression(quality_lower=50, quality_upper=100, p=0.5),\n",
        "    ToFloat(max_value=255)\n",
        "])\n",
        "\n",
        "AUGMENTATIONS_TEST = Compose([\n",
        "    # CLAHE(p=1.0, clip_limit=2.0),\n",
        "    ToFloat(max_value=255)\n",
        "])"
      ],
      "execution_count": 0,
      "outputs": []
    },
    {
      "cell_type": "code",
      "metadata": {
        "id": "2EpQ-iJN94G1",
        "colab_type": "code",
        "colab": {}
      },
      "source": [
        "# URL for the data-set on the internet.\n",
        "data_url = \"https://www.cs.toronto.edu/~kriz/cifar-10-python.tar.gz\"\n",
        "\n",
        "# Width and height of each image.\n",
        "img_size = 32\n",
        "\n",
        "# Number of channels in each image, 3 channels: Red, Green, Blue.\n",
        "num_channels = 3\n",
        "\n",
        "# Length of an image when flattened to a 1-dim array.\n",
        "img_size_flat = img_size * img_size * num_channels\n",
        "\n",
        "# Number of classes.\n",
        "num_classes = hparams.n_classes\n",
        "\n",
        "########################################################################\n",
        "# Various constants used to allocate arrays of the correct size.\n",
        "\n",
        "# Number of files for the training-set.\n",
        "_num_files_train = 5\n",
        "\n",
        "# Number of images for each batch-file in the training-set.\n",
        "_images_per_file = 10000\n",
        "\n",
        "# Total number of images in the training-set.\n",
        "# This is used to pre-allocate arrays for efficiency.\n",
        "_num_images_train = _num_files_train * _images_per_file\n",
        "\n",
        "########################################################################\n",
        "# Private functions for downloading, unpacking and loading data-files.\n",
        "\n",
        "\n",
        "def download(base_url, filename, download_dir):\n",
        "    \"\"\"\n",
        "    Download the given file if it does not already exist in the download_dir.\n",
        "    :param base_url: The internet URL without the filename.\n",
        "    :param filename: The filename that will be added to the base_url.\n",
        "    :param download_dir: Local directory for storing the file.\n",
        "    :return: Nothing.\n",
        "    \"\"\"\n",
        "\n",
        "    # Path for local file.\n",
        "    save_path = os.path.join(download_dir, filename)\n",
        "\n",
        "    # Check if the file already exists, otherwise we need to download it now.\n",
        "    if not os.path.exists(save_path):\n",
        "        # Check if the download directory exists, otherwise create it.\n",
        "        if not os.path.exists(download_dir):\n",
        "            os.makedirs(download_dir)\n",
        "\n",
        "        print(\"Downloading\", filename, \"...\")\n",
        "\n",
        "        # Download the file from the internet.\n",
        "        url = base_url + filename\n",
        "        file_path, _ = urllib.request.urlretrieve(url=url,\n",
        "                                                  filename=save_path)\n",
        "\n",
        "        print(\" Done!\")\n",
        "\n",
        "\n",
        "def maybe_download_and_extract(url=data_url, download_dir=hparams.data_dir):\n",
        "    \"\"\"\n",
        "    Download and extract the data if it doesn't already exist.\n",
        "    Assumes the url is a tar-ball file.\n",
        "    :param url:\n",
        "        Internet URL for the tar-file to download.\n",
        "        Example: \"https://www.cs.toronto.edu/~kriz/cifar-10-python.tar.gz\"\n",
        "    :param download_dir:\n",
        "        Directory where the downloaded file is saved.\n",
        "        Example: \"data/CIFAR-10/\"\n",
        "    :return:\n",
        "        Nothing.\n",
        "    \"\"\"\n",
        "\n",
        "    # Filename for saving the file downloaded from the internet.\n",
        "    # Use the filename from the URL and add it to the download_dir.\n",
        "    filename = url.split('/')[-1]\n",
        "    file_path = os.path.join(download_dir, filename)\n",
        "\n",
        "    # Check if the file already exists.\n",
        "    # If it exists then we assume it has also been extracted,\n",
        "    # otherwise we need to download and extract it now.\n",
        "    if not os.path.exists(file_path):\n",
        "        # Check if the download directory exists, otherwise create it.\n",
        "        if not os.path.exists(download_dir):\n",
        "            os.makedirs(download_dir)\n",
        "\n",
        "        # Download the file from the internet.\n",
        "        file_path, _ = urllib.request.urlretrieve(url=url,\n",
        "                                                  filename=file_path)\n",
        "\n",
        "        print()\n",
        "        print(\"Download finished. Extracting files.\")\n",
        "\n",
        "        if file_path.endswith(\".zip\"):\n",
        "            # Unpack the zip-file.\n",
        "            zipfile.ZipFile(file=file_path, mode=\"r\").extractall(download_dir)\n",
        "        elif file_path.endswith((\".tar.gz\", \".tgz\")):\n",
        "            # Unpack the tar-ball.\n",
        "            tarfile.open(name=file_path, mode=\"r:gz\").extractall(download_dir)\n",
        "\n",
        "        print(\"Done.\")\n",
        "    else:\n",
        "        print(\"Data has apparently already been downloaded and unpacked.\")\n",
        "\n",
        "\n",
        "def _get_file_path(filename=\"\"):\n",
        "    \"\"\"\n",
        "    Return the full path of a data-file for the data-set.\n",
        "\n",
        "    If filename==\"\" then return the directory of the files.\n",
        "    \"\"\"\n",
        "\n",
        "    return os.path.join(hparams.data_dir, \"cifar-10-batches-py/\", filename)\n",
        "\n",
        "\n",
        "def _unpickle(filename):\n",
        "    \"\"\"\n",
        "    Unpickle the given file and return the data.\n",
        "\n",
        "    Note that the appropriate dir-name is prepended the filename.\n",
        "    \"\"\"\n",
        "\n",
        "    # Create full path for the file.\n",
        "    file_path = _get_file_path(filename)\n",
        "\n",
        "    print(\"Loading data: \" + file_path)\n",
        "\n",
        "    with open(file_path, mode='rb') as file:\n",
        "        # In Python 3.X it is important to set the encoding,\n",
        "        # otherwise an exception is raised here.\n",
        "        data = pickle.load(file,encoding='bytes')\n",
        "\n",
        "    return data\n",
        "\n",
        "\n",
        "def _convert_images(raw):\n",
        "    \"\"\"\n",
        "    Convert images from the CIFAR-10 format and\n",
        "    return a 4-dim array with shape: [image_number, height, width, channel]\n",
        "    where the pixels are floats between 0.0 and 1.0.\n",
        "    \"\"\"\n",
        "\n",
        "    # Convert the raw images from the data-files to floating-points.\n",
        "    # raw_float = np.array(raw, dtype=float) / 255.0\n",
        "\n",
        "    # Reshape the array to 4-dimensions.\n",
        "    images = raw.reshape([-1, num_channels, img_size, img_size])\n",
        "\n",
        "    # Reorder the indices of the array.\n",
        "    images = images.transpose([0, 2, 3, 1])\n",
        "\n",
        "    return images\n",
        "\n",
        "\n",
        "def _load_data(filename):\n",
        "    \"\"\"\n",
        "    Load a pickled data-file from the CIFAR-10 data-set\n",
        "    and return the converted images (see above) and the class-number\n",
        "    for each image.\n",
        "    \"\"\"\n",
        "\n",
        "    # Load the pickled data-file.\n",
        "    data = _unpickle(filename)\n",
        "\n",
        "    # Get the raw images.\n",
        "    raw_images = data[b'data']\n",
        "\n",
        "    # Get the class-numbers for each image. Convert to numpy-array.\n",
        "    cls = np.array(data[b'labels'])\n",
        "\n",
        "    # Convert the images.\n",
        "    images = _convert_images(raw_images)\n",
        "\n",
        "    return images, cls\n",
        "\n",
        "\n",
        "def load_class_names():\n",
        "    # Load the class-names from the pickled file.\n",
        "    raw = _unpickle(filename=\"batches.meta\")[b'label_names']\n",
        "\n",
        "    # Convert from binary strings.\n",
        "    names = [x.decode('utf-8') for x in raw]\n",
        "\n",
        "    return names\n",
        "\n",
        "\n",
        "def load_training_data():\n",
        "    \"\"\"\n",
        "    Load all the training-data for the CIFAR-10 data-set.\n",
        "\n",
        "    The data-set is split into 5 data-files which are merged here.\n",
        "\n",
        "    Returns the images, class-numbers and one-hot encoded class-labels.\n",
        "    \"\"\"\n",
        "\n",
        "    # Pre-allocate the arrays for the images and class-numbers for efficiency.\n",
        "    images = np.zeros(shape=[_num_images_train, img_size, img_size, num_channels], dtype=np.uint8)\n",
        "    cls = np.zeros(shape=[_num_images_train], dtype=int)\n",
        "\n",
        "    # Begin-index for the current batch.\n",
        "    begin = 0\n",
        "\n",
        "    # For each data-file.\n",
        "    for i in range(_num_files_train):\n",
        "        # Load the images and class-numbers from the data-file.\n",
        "        images_batch, cls_batch = _load_data(filename=\"data_batch_\" + str(i + 1))\n",
        "\n",
        "        # Number of images in this batch.\n",
        "        num_images = len(images_batch)\n",
        "\n",
        "        # End-index for the current batch.\n",
        "        end = begin + num_images\n",
        "\n",
        "        # Store the images into the array.\n",
        "        images[begin:end, :] = images_batch\n",
        "\n",
        "        # Store the class-numbers into the array.\n",
        "        cls[begin:end] = cls_batch\n",
        "\n",
        "        # The begin-index for the next batch is the current end-index.\n",
        "        begin = end\n",
        "\n",
        "    return images, cls\n",
        "\n",
        "\n",
        "def load_validation_data():\n",
        "\n",
        "    images, cls = _load_data(filename=\"test_batch\")\n",
        "\n",
        "    images = images[5000:, :, :, :]\n",
        "    cls = cls[5000:]\n",
        "\n",
        "    return images, cls\n",
        "\n",
        "def load_testing_data():\n",
        "\n",
        "\n",
        "    images, cls = _load_data(filename=\"test_batch\")\n",
        "\n",
        "    images = images[:5000, :, :, :]\n",
        "    cls = cls[:5000]\n",
        "\n",
        "    return images, cls"
      ],
      "execution_count": 0,
      "outputs": []
    },
    {
      "cell_type": "code",
      "metadata": {
        "id": "wnq5ASa21gpQ",
        "colab_type": "code",
        "outputId": "9f03b8a4-5d53-4e4a-88be-e88396d1f80c",
        "colab": {
          "base_uri": "https://localhost:8080/",
          "height": 54
        }
      },
      "source": [
        "maybe_download_and_extract()\n",
        "x_val, y_val = load_validation_data()"
      ],
      "execution_count": 0,
      "outputs": [
        {
          "output_type": "stream",
          "text": [
            "Data has apparently already been downloaded and unpacked.\n",
            "Loading data: /tmp/cifar-data/cifar-10-batches-py/test_batch\n"
          ],
          "name": "stdout"
        }
      ]
    },
    {
      "cell_type": "code",
      "metadata": {
        "id": "UsCeVdHD2jQC",
        "colab_type": "code",
        "outputId": "0c4d5d4d-fe57-41e5-ff1c-abc50260541a",
        "colab": {
          "base_uri": "https://localhost:8080/",
          "height": 35
        }
      },
      "source": [
        "x_val.shape"
      ],
      "execution_count": 0,
      "outputs": [
        {
          "output_type": "execute_result",
          "data": {
            "text/plain": [
              "(5000, 32, 32, 3)"
            ]
          },
          "metadata": {
            "tags": []
          },
          "execution_count": 10
        }
      ]
    },
    {
      "cell_type": "code",
      "metadata": {
        "id": "slIg17Vi3Ipy",
        "colab_type": "code",
        "outputId": "d871cff3-656f-4d69-b8b1-ff246662377e",
        "colab": {
          "base_uri": "https://localhost:8080/",
          "height": 268
        }
      },
      "source": [
        "fig = plt.figure(figsize=(5,4))\n",
        "for i in range(3):\n",
        "    for j in range(3):\n",
        "        ax = fig.add_subplot(3, 3, i * 3 + j + 1)\n",
        "        ax.imshow(x_val[i * 3 + j])"
      ],
      "execution_count": 0,
      "outputs": [
        {
          "output_type": "display_data",
          "data": {
            "image/png": "[encoded data removed]",
            "text/plain": [
              "<Figure size 360x288 with 9 Axes>"
            ]
          },
          "metadata": {
            "tags": []
          }
        }
      ]
    },
    {
      "cell_type": "code",
      "metadata": {
        "id": "3PFASqxg49Lu",
        "colab_type": "code",
        "outputId": "81bed804-880a-4492-9168-29071acf3186",
        "colab": {
          "base_uri": "https://localhost:8080/",
          "height": 268
        }
      },
      "source": [
        "fig = plt.figure(figsize=(5,4))\n",
        "for i in range(3):\n",
        "    for j in range(3):\n",
        "        ax = fig.add_subplot(3, 3, i * 3 + j + 1)\n",
        "        ax.imshow((AUGMENTATIONS_TRAIN(image=x_val[2])[\"image\"] * 255).astype(np.uint8))"
      ],
      "execution_count": 0,
      "outputs": [
        {
          "output_type": "display_data",
          "data": {
            "image/png": "[encoded data removed]",
            "text/plain": [
              "<Figure size 360x288 with 9 Axes>"
            ]
          },
          "metadata": {
            "tags": []
          }
        }
      ]
    },
    {
      "cell_type": "markdown",
      "metadata": {
        "id": "Ufy-yFR85dRK",
        "colab_type": "text"
      },
      "source": [
        "# Sequence Class"
      ]
    },
    {
      "cell_type": "code",
      "metadata": {
        "id": "VlvusgeU5f-d",
        "colab_type": "code",
        "colab": {}
      },
      "source": [
        "from tensorflow.python.keras.utils.data_utils import Sequence, is_generator_or_sequence"
      ],
      "execution_count": 0,
      "outputs": []
    },
    {
      "cell_type": "code",
      "metadata": {
        "id": "nfKzzFFL520Z",
        "colab_type": "code",
        "colab": {}
      },
      "source": [
        "class CIFAR10Sequence(Sequence):\n",
        "\n",
        "    def __init__(self, x_set, y_set, batch_size, augmentations):\n",
        "        self.x, self.y = x_set, y_set\n",
        "        self.batch_size = batch_size\n",
        "        self.augment = augmentations\n",
        "\n",
        "    def __len__(self):\n",
        "        return int(np.ceil(len(self.x) / float(self.batch_size)))\n",
        "\n",
        "    def __getitem__(self, idx):\n",
        "        batch_x = self.x[idx * self.batch_size:(idx + 1) * self.batch_size]\n",
        "        batch_y = self.y[idx * self.batch_size:(idx + 1) * self.batch_size]\n",
        "        \n",
        "        return np.stack([\n",
        "            self.augment(image=x)[\"image\"] for x in batch_x\n",
        "        ], axis=0), np.array(batch_y)"
      ],
      "execution_count": 0,
      "outputs": []
    },
    {
      "cell_type": "code",
      "metadata": {
        "id": "61tymWG2AH2F",
        "colab_type": "code",
        "outputId": "0ce7abd2-f0f2-4719-8ed8-95744154b1df",
        "colab": {
          "base_uri": "https://localhost:8080/",
          "height": 35
        }
      },
      "source": [
        "x_val, y_val = load_validation_data()\n",
        "valid_gen = CIFAR10Sequence(x_val, y_val, hparams.val_batch_size, augmentations=AUGMENTATIONS_TEST)"
      ],
      "execution_count": 0,
      "outputs": [
        {
          "output_type": "stream",
          "text": [
            "Loading data: /tmp/cifar-data/cifar-10-batches-py/test_batch\n"
          ],
          "name": "stdout"
        }
      ]
    },
    {
      "cell_type": "code",
      "metadata": {
        "id": "TBPPRp6YD9U_",
        "colab_type": "code",
        "outputId": "743a7664-72c1-4506-a254-d1866406d19d",
        "colab": {
          "base_uri": "https://localhost:8080/",
          "height": 35
        }
      },
      "source": [
        "is_generator_or_sequence(valid_gen )"
      ],
      "execution_count": 0,
      "outputs": [
        {
          "output_type": "execute_result",
          "data": {
            "text/plain": [
              "True"
            ]
          },
          "metadata": {
            "tags": []
          },
          "execution_count": 16
        }
      ]
    },
    {
      "cell_type": "code",
      "metadata": {
        "id": "YQzEjLKeAtic",
        "colab_type": "code",
        "outputId": "c7036e40-30f9-40cf-b561-6bdc85e9d351",
        "colab": {
          "base_uri": "https://localhost:8080/",
          "height": 35
        }
      },
      "source": [
        "valid_gen[2][0].shape"
      ],
      "execution_count": 0,
      "outputs": [
        {
          "output_type": "execute_result",
          "data": {
            "text/plain": [
              "(1024, 32, 32, 3)"
            ]
          },
          "metadata": {
            "tags": []
          },
          "execution_count": 17
        }
      ]
    },
    {
      "cell_type": "markdown",
      "metadata": {
        "id": "eiCehG29Urjk",
        "colab_type": "text"
      },
      "source": [
        "# Network architecture\n",
        "\n",
        "The below code defines the architecture of the neural network we are going to train. We will be using the infamous Resnet architecture with Shortcut connections and bottlenecs. The paper may be found [here](https://www.cv-foundation.org/openaccess/content_cvpr_2016/papers/He_Deep_Residual_Learning_CVPR_2016_paper.pdf).\n",
        "\n",
        "We will be using the `tensorflow.keras` API - TensorFlow's implementation of the Keras API specification. This is a high-level API to build and train models that includes first-class support for TensorFlow-specific functionality. Keras is able to use TensorFlow as its backend for tensor processing during training and inference, making Keras easy-to-use but also just as fast as pure TensorFlow models.\n",
        "\n",
        "The model code is part of the Keras examples and may be found [here](https://github.com/keras-team/keras/blob/master/examples/cifar10_resnet.py)."
      ]
    },
    {
      "cell_type": "code",
      "metadata": {
        "id": "9mj6sUIhU009",
        "colab_type": "code",
        "colab": {}
      },
      "source": [
        "from tensorflow.keras.regularizers import l2\n",
        "\n",
        "def resnet_layer(inputs,\n",
        "                 num_filters=16,\n",
        "                 kernel_size=3,\n",
        "                 strides=1,\n",
        "                 activation='relu',\n",
        "                 batch_normalization=True,\n",
        "                 conv_first=True):\n",
        "    \"\"\"2D Convolution-Batch Normalization-Activation stack builder\n",
        "    # Arguments\n",
        "        inputs (tensor): input tensor from input image or previous layer\n",
        "        num_filters (int): Conv2D number of filters\n",
        "        kernel_size (int): Conv2D square kernel dimensions\n",
        "        strides (int): Conv2D square stride dimensions\n",
        "        activation (string): activation name\n",
        "        batch_normalization (bool): whether to include batch normalization\n",
        "        conv_first (bool): conv-bn-activation (True) or\n",
        "            bn-activation-conv (False)\n",
        "    # Returns\n",
        "        x (tensor): tensor as input to the next layer\n",
        "    \"\"\"\n",
        "    conv = Conv2D(num_filters,\n",
        "                  kernel_size=kernel_size,\n",
        "                  strides=strides,\n",
        "                  padding='same',\n",
        "                  kernel_initializer='he_normal',\n",
        "                  kernel_regularizer=l2(1e-4))\n",
        "\n",
        "    x = inputs\n",
        "    if conv_first:\n",
        "        x = conv(x)\n",
        "        if batch_normalization:\n",
        "            x = BatchNormalization()(x)\n",
        "        if activation is not None:\n",
        "            x = Activation(activation)(x)\n",
        "    else:\n",
        "        if batch_normalization:\n",
        "            x = BatchNormalization()(x)\n",
        "        if activation is not None:\n",
        "            x = Activation(activation)(x)\n",
        "        x = conv(x)\n",
        "    return x\n",
        "\n",
        "\n",
        "def resnet_v2(input_shape, depth, num_classes=10):\n",
        "    \"\"\"ResNet Version 2 Model builder [b]\n",
        "    Stacks of (1 x 1)-(3 x 3)-(1 x 1) BN-ReLU-Conv2D or also known as\n",
        "    bottleneck layer\n",
        "    First shortcut connection per layer is 1 x 1 Conv2D.\n",
        "    Second and onwards shortcut connection is identity.\n",
        "    At the beginning of each stage, the feature map size is halved (downsampled)\n",
        "    by a convolutional layer with strides=2, while the number of filter maps is\n",
        "    doubled. Within each stage, the layers have the same number filters and the\n",
        "    same filter map sizes.\n",
        "    Features maps sizes:\n",
        "    conv1  : 32x32,  16\n",
        "    stage 0: 32x32,  64\n",
        "    stage 1: 16x16, 128\n",
        "    stage 2:  8x8,  256\n",
        "    # Arguments\n",
        "        input_shape (tensor): shape of input image tensor\n",
        "        depth (int): number of core convolutional layers\n",
        "        num_classes (int): number of classes (CIFAR10 has 10)\n",
        "    # Returns\n",
        "        model (Model): Keras model instance\n",
        "    \"\"\"\n",
        "    if (depth - 2) % 9 != 0:\n",
        "        raise ValueError('depth should be 9n+2 (eg 56 or 110 in [b])')\n",
        "    # Start model definition.\n",
        "    num_filters_in = 16\n",
        "    num_res_blocks = int((depth - 2) / 9)\n",
        "\n",
        "    inputs = Input(shape=input_shape)\n",
        "    # v2 performs Conv2D with BN-ReLU on input before splitting into 2 paths\n",
        "    x = resnet_layer(inputs=inputs,\n",
        "                     num_filters=num_filters_in,\n",
        "                     conv_first=True)\n",
        "\n",
        "    # Instantiate the stack of residual units\n",
        "    for stage in range(3):\n",
        "        for res_block in range(num_res_blocks):\n",
        "            activation = 'relu'\n",
        "            batch_normalization = True\n",
        "            strides = 1\n",
        "            if stage == 0:\n",
        "                num_filters_out = num_filters_in * 4\n",
        "                if res_block == 0:  # first layer and first stage\n",
        "                    activation = None\n",
        "                    batch_normalization = False\n",
        "            else:\n",
        "                num_filters_out = num_filters_in * 2\n",
        "                if res_block == 0:  # first layer but not first stage\n",
        "                    strides = 2    # downsample\n",
        "\n",
        "            # bottleneck residual unit\n",
        "            y = resnet_layer(inputs=x,\n",
        "                             num_filters=num_filters_in,\n",
        "                             kernel_size=1,\n",
        "                             strides=strides,\n",
        "                             activation=activation,\n",
        "                             batch_normalization=batch_normalization,\n",
        "                             conv_first=False)\n",
        "            y = resnet_layer(inputs=y,\n",
        "                             num_filters=num_filters_in,\n",
        "                             conv_first=False)\n",
        "            y = resnet_layer(inputs=y,\n",
        "                             num_filters=num_filters_out,\n",
        "                             kernel_size=1,\n",
        "                             conv_first=False)\n",
        "            if res_block == 0:\n",
        "                # linear projection residual shortcut connection to match\n",
        "                # changed dims\n",
        "                x = resnet_layer(inputs=x,\n",
        "                                 num_filters=num_filters_out,\n",
        "                                 kernel_size=1,\n",
        "                                 strides=strides,\n",
        "                                 activation=None,\n",
        "                                 batch_normalization=False)\n",
        "            x = tf.keras.layers.add([x, y])\n",
        "\n",
        "        num_filters_in = num_filters_out\n",
        "\n",
        "    # Add classifier on top.\n",
        "    # v2 has BN-ReLU before Pooling\n",
        "    x = BatchNormalization()(x)\n",
        "    x = Activation('relu')(x)\n",
        "    x = AveragePooling2D(pool_size=8)(x)\n",
        "    y = Flatten()(x)\n",
        "    outputs = Dense(num_classes,\n",
        "                    activation='softmax',\n",
        "                    kernel_initializer='he_normal')(y)\n",
        "\n",
        "    # Instantiate model.\n",
        "    model = Model(inputs=inputs, outputs=outputs)\n",
        "    return model"
      ],
      "execution_count": 0,
      "outputs": []
    },
    {
      "cell_type": "markdown",
      "metadata": {
        "id": "BfGrJgWdVVg3",
        "colab_type": "text"
      },
      "source": [
        "# Fit the classifier\n"
      ]
    },
    {
      "cell_type": "markdown",
      "metadata": {
        "id": "3GYTmAo5n40B",
        "colab_type": "text"
      },
      "source": [
        "First, let's make sure we are connected to a TPU runtime. The below lines should output a list of 8 TPU devices connected to our session. If not, we receive an error."
      ]
    },
    {
      "cell_type": "code",
      "metadata": {
        "id": "LQTlFmtYbfM1",
        "colab_type": "code",
        "outputId": "b1c1d4da-e841-43ec-92f1-537a5c77437e",
        "colab": {
          "base_uri": "https://localhost:8080/",
          "height": 276
        }
      },
      "source": [
        "import os\n",
        "import pprint\n",
        "import tensorflow as tf\n",
        "\n",
        "if 'COLAB_TPU_ADDR' not in os.environ:\n",
        "  print('ERROR: Not connected to a TPU runtime; please see the first cell in this notebook for instructions!')\n",
        "else:\n",
        "  tpu_address = 'grpc://' + os.environ['COLAB_TPU_ADDR']\n",
        "  print ('TPU address is', tpu_address)\n",
        "\n",
        "  with tf.Session(tpu_address) as session:\n",
        "    devices = session.list_devices()\n",
        "    \n",
        "  print('TPU devices:')\n",
        "  pprint.pprint(devices)"
      ],
      "execution_count": 0,
      "outputs": [
        {
          "output_type": "stream",
          "text": [
            "TPU address is grpc://10.85.110.178:8470\n",
            "TPU devices:\n",
            "[_DeviceAttributes(/job:tpu_worker/replica:0/task:0/device:CPU:0, CPU, -1, 10447589990399745755),\n",
            " _DeviceAttributes(/job:tpu_worker/replica:0/task:0/device:XLA_CPU:0, XLA_CPU, 17179869184, 1023127219608061129),\n",
            " _DeviceAttributes(/job:tpu_worker/replica:0/task:0/device:TPU:0, TPU, 17179869184, 4448951322304478444),\n",
            " _DeviceAttributes(/job:tpu_worker/replica:0/task:0/device:TPU:1, TPU, 17179869184, 5429575976036176408),\n",
            " _DeviceAttributes(/job:tpu_worker/replica:0/task:0/device:TPU:2, TPU, 17179869184, 7858007824624927224),\n",
            " _DeviceAttributes(/job:tpu_worker/replica:0/task:0/device:TPU:3, TPU, 17179869184, 10133592829226009250),\n",
            " _DeviceAttributes(/job:tpu_worker/replica:0/task:0/device:TPU:4, TPU, 17179869184, 12717714994154225019),\n",
            " _DeviceAttributes(/job:tpu_worker/replica:0/task:0/device:TPU:5, TPU, 17179869184, 18040394914887073113),\n",
            " _DeviceAttributes(/job:tpu_worker/replica:0/task:0/device:TPU:6, TPU, 17179869184, 10935008666763899743),\n",
            " _DeviceAttributes(/job:tpu_worker/replica:0/task:0/device:TPU:7, TPU, 17179869184, 5250134107826257355),\n",
            " _DeviceAttributes(/job:tpu_worker/replica:0/task:0/device:TPU_SYSTEM:0, TPU_SYSTEM, 17179869184, 16699338160733944533)]\n"
          ],
          "name": "stdout"
        }
      ]
    },
    {
      "cell_type": "code",
      "metadata": {
        "id": "szqTyVzuJvFe",
        "colab_type": "code",
        "outputId": "ab2258d3-58a0-4cb1-a4d4-9f3072e4ac88",
        "colab": {
          "base_uri": "https://localhost:8080/",
          "height": 349
        }
      },
      "source": [
        "resnet_model = resnet_v2(\n",
        "    (32, 32, 3),\n",
        "    depth=110, num_classes=hparams.n_classes)\n",
        "resnet_model = tf.contrib.tpu.keras_to_tpu_model(\n",
        "    resnet_model,\n",
        "    strategy=tf.contrib.tpu.TPUDistributionStrategy(\n",
        "        tf.contrib.cluster_resolver.TPUClusterResolver(tpu='grpc://' + os.environ['COLAB_TPU_ADDR'])\n",
        "    )\n",
        ")\n",
        "resnet_model.compile(\n",
        "    optimizer=tf.train.AdamOptimizer(learning_rate=1e-3, ),\n",
        "    loss=tf.keras.losses.sparse_categorical_crossentropy,\n",
        "    metrics=['sparse_categorical_accuracy']\n",
        ")"
      ],
      "execution_count": 0,
      "outputs": [
        {
          "output_type": "stream",
          "text": [
            "INFO:tensorflow:Querying Tensorflow master (grpc://10.85.110.178:8470) for TPU system metadata.\n",
            "INFO:tensorflow:Found TPU system:\n",
            "INFO:tensorflow:*** Num TPU Cores: 8\n",
            "INFO:tensorflow:*** Num TPU Workers: 1\n",
            "INFO:tensorflow:*** Num TPU Cores Per Worker: 8\n",
            "INFO:tensorflow:*** Available Device: _DeviceAttributes(/job:worker/replica:0/task:0/device:CPU:0, CPU, -1, 10447589990399745755)\n",
            "INFO:tensorflow:*** Available Device: _DeviceAttributes(/job:worker/replica:0/task:0/device:XLA_CPU:0, XLA_CPU, 17179869184, 1023127219608061129)\n",
            "INFO:tensorflow:*** Available Device: _DeviceAttributes(/job:worker/replica:0/task:0/device:TPU:0, TPU, 17179869184, 4448951322304478444)\n",
            "INFO:tensorflow:*** Available Device: _DeviceAttributes(/job:worker/replica:0/task:0/device:TPU:1, TPU, 17179869184, 5429575976036176408)\n",
            "INFO:tensorflow:*** Available Device: _DeviceAttributes(/job:worker/replica:0/task:0/device:TPU:2, TPU, 17179869184, 7858007824624927224)\n",
            "INFO:tensorflow:*** Available Device: _DeviceAttributes(/job:worker/replica:0/task:0/device:TPU:3, TPU, 17179869184, 10133592829226009250)\n",
            "INFO:tensorflow:*** Available Device: _DeviceAttributes(/job:worker/replica:0/task:0/device:TPU:4, TPU, 17179869184, 12717714994154225019)\n",
            "INFO:tensorflow:*** Available Device: _DeviceAttributes(/job:worker/replica:0/task:0/device:TPU:5, TPU, 17179869184, 18040394914887073113)\n",
            "INFO:tensorflow:*** Available Device: _DeviceAttributes(/job:worker/replica:0/task:0/device:TPU:6, TPU, 17179869184, 10935008666763899743)\n",
            "INFO:tensorflow:*** Available Device: _DeviceAttributes(/job:worker/replica:0/task:0/device:TPU:7, TPU, 17179869184, 5250134107826257355)\n",
            "INFO:tensorflow:*** Available Device: _DeviceAttributes(/job:worker/replica:0/task:0/device:TPU_SYSTEM:0, TPU_SYSTEM, 17179869184, 16699338160733944533)\n",
            "WARNING:tensorflow:tpu_model (from tensorflow.contrib.tpu.python.tpu.keras_support) is experimental and may change or be removed at any time, and without warning.\n"
          ],
          "name": "stdout"
        }
      ]
    },
    {
      "cell_type": "code",
      "metadata": {
        "id": "_L6c8cxGPZx7",
        "colab_type": "code",
        "colab": {}
      },
      "source": [
        "# # Validation data\n",
        "# x_val, y_val = load_validation_data()\n",
        "# valid_gen = CIFAR10Sequence(x_val, y_val, hparams.val_batch_size, augmentations=AUGMENTATIONS_TEST)\n",
        "\n",
        "# imgs, ys = [], []\n",
        "# for i in range(len(valid_gen)):\n",
        "#     tmp1, tmp2 = valid_gen[i]\n",
        "#     imgs.append(tmp1), ys.append(tmp2)\n",
        "# valid_x = np.concatenate(imgs)\n",
        "# valid_y = np.concatenate(ys)\n",
        "# valid_x.shape, valid_y.shape, np.max(valid_x), np.min(valid_y), np.max(valid_y)"
      ],
      "execution_count": 0,
      "outputs": []
    },
    {
      "cell_type": "code",
      "metadata": {
        "id": "VQWJ-urr99OC",
        "colab_type": "code",
        "outputId": "b32af5a5-a604-4e69-aafe-d5df1d44851c",
        "colab": {
          "base_uri": "https://localhost:8080/",
          "height": 459
        }
      },
      "source": [
        "tf.logging.set_verbosity(tf.logging.INFO)\n",
        "\n",
        "# Download and extract CIFAR-10 data\n",
        "maybe_download_and_extract()\n",
        "\n",
        "# training data\n",
        "x_train, y_train = load_training_data()\n",
        "train_gen = CIFAR10Sequence(x_train, y_train, hparams.train_batch_size, augmentations=AUGMENTATIONS_TRAIN)\n",
        "\n",
        "# Validation data\n",
        "x_val, y_val = load_validation_data()\n",
        "valid_gen = CIFAR10Sequence(x_val, y_val, hparams.val_batch_size, augmentations=AUGMENTATIONS_TEST)\n",
        "\n",
        "# Define callbacks\n",
        "callbacks = [\n",
        "    tf.keras.callbacks.TensorBoard(log_dir=hparams.checkpoint_dir)\n",
        "]\n",
        "\n",
        "# Warmup for 3 epochs\n",
        "resnet_model.fit_generator(\n",
        "    train_gen,\n",
        "    epochs=1,\n",
        "    workers=2, use_multiprocessing=False)"
      ],
      "execution_count": 0,
      "outputs": [
        {
          "output_type": "stream",
          "text": [
            "Data has apparently already been downloaded and unpacked.\n",
            "Loading data: /tmp/cifar-data/cifar-10-batches-py/data_batch_1\n",
            "Loading data: /tmp/cifar-data/cifar-10-batches-py/data_batch_2\n",
            "Loading data: /tmp/cifar-data/cifar-10-batches-py/data_batch_3\n",
            "Loading data: /tmp/cifar-data/cifar-10-batches-py/data_batch_4\n",
            "Loading data: /tmp/cifar-data/cifar-10-batches-py/data_batch_5\n",
            "Loading data: /tmp/cifar-data/cifar-10-batches-py/test_batch\n",
            "INFO:tensorflow:New input shapes; (re-)compiling: mode=train (# of cores 8), [TensorSpec(shape=(128,), dtype=tf.int32, name='core_id0'), TensorSpec(shape=(128, 32, 32, 3), dtype=tf.float32, name='input_2_10'), TensorSpec(shape=(128, 1), dtype=tf.int32, name='dense_1_target_10')]\n",
            "INFO:tensorflow:Overriding default placeholder.\n",
            "INFO:tensorflow:Remapping placeholder for input_2\n",
            "WARNING:tensorflow:From /usr/local/lib/python3.6/dist-packages/tensorflow/contrib/tpu/python/tpu/keras_support.py:302: to_float (from tensorflow.python.ops.math_ops) is deprecated and will be removed in a future version.\n",
            "Instructions for updating:\n",
            "Use tf.cast instead.\n",
            "INFO:tensorflow:Started compiling\n",
            "INFO:tensorflow:Finished compiling. Time elapsed: 140.8527615070343 secs\n",
            "INFO:tensorflow:Setting weights on TPU model.\n",
            "46/49 [===========================>..] - ETA: 21s - loss: 3.7056 - sparse_categorical_accuracy: 0.3671INFO:tensorflow:New input shapes; (re-)compiling: mode=train (# of cores 8), [TensorSpec(shape=(106,), dtype=tf.int32, name='core_id0'), TensorSpec(shape=(106, 32, 32, 3), dtype=tf.float32, name='input_2_10'), TensorSpec(shape=(106, 1), dtype=tf.int32, name='dense_1_target_10')]\n",
            "INFO:tensorflow:Overriding default placeholder.\n",
            "INFO:tensorflow:Remapping placeholder for input_2\n",
            "INFO:tensorflow:Started compiling\n",
            "INFO:tensorflow:Finished compiling. Time elapsed: 109.17956495285034 secs\n",
            "49/49 [==============================] - 471s 10s/step - loss: 3.6760 - sparse_categorical_accuracy: 0.3731\n"
          ],
          "name": "stdout"
        },
        {
          "output_type": "execute_result",
          "data": {
            "text/plain": [
              "<tensorflow.python.keras.callbacks.History at 0x7fcf21140278>"
            ]
          },
          "metadata": {
            "tags": []
          },
          "execution_count": 24
        }
      ]
    },
    {
      "cell_type": "code",
      "metadata": {
        "id": "AFKo6O1rUdhG",
        "colab_type": "code",
        "outputId": "31219b84-f8bc-442f-9c99-42ed0a6a1d9b",
        "colab": {
          "base_uri": "https://localhost:8080/",
          "height": 2388
        }
      },
      "source": [
        "# Training\n",
        "resnet_model.fit_generator(\n",
        "    train_gen,\n",
        "    epochs=hparams.n_epochs-1-20,\n",
        "    validation_data=valid_gen,\n",
        "    workers=2, use_multiprocessing=False,\n",
        "    callbacks=callbacks)"
      ],
      "execution_count": 0,
      "outputs": [
        {
          "output_type": "stream",
          "text": [
            "Epoch 1/39\n",
            "48/49 [============================>.] - ETA: 0s - loss: 2.9587 - sparse_categorical_accuracy: 0.4964INFO:tensorflow:New input shapes; (re-)compiling: mode=eval (# of cores 8), [TensorSpec(shape=(128,), dtype=tf.int32, name='core_id_10'), TensorSpec(shape=(128, 32, 32, 3), dtype=tf.float32, name='input_2_10'), TensorSpec(shape=(128, 1), dtype=tf.int32, name='dense_1_target_10')]\n",
            "INFO:tensorflow:Overriding default placeholder.\n",
            "INFO:tensorflow:Remapping placeholder for input_2\n",
            "INFO:tensorflow:Started compiling\n",
            "INFO:tensorflow:Finished compiling. Time elapsed: 90.14641976356506 secs\n",
            "4/5 [=======================>......] - ETA: 28s - loss: 3.7934 - sparse_categorical_accuracy: 0.2383 INFO:tensorflow:New input shapes; (re-)compiling: mode=eval (# of cores 8), [TensorSpec(shape=(113,), dtype=tf.int32, name='core_id_10'), TensorSpec(shape=(113, 32, 32, 3), dtype=tf.float32, name='input_2_10'), TensorSpec(shape=(113, 1), dtype=tf.int32, name='dense_1_target_10')]\n",
            "INFO:tensorflow:Overriding default placeholder.\n",
            "INFO:tensorflow:Remapping placeholder for input_2\n",
            "INFO:tensorflow:Started compiling\n",
            "INFO:tensorflow:Finished compiling. Time elapsed: 98.99567580223083 secs\n",
            "5/5 [==============================] - 227s 45s/step - loss: 3.7804 - sparse_categorical_accuracy: 0.2404\n",
            "49/49 [==============================] - 266s 5s/step - loss: 2.9538 - sparse_categorical_accuracy: 0.4973 - val_loss: 3.7804 - val_sparse_categorical_accuracy: 0.2404\n",
            "Epoch 2/39\n",
            "5/5 [==============================] - 1s 237ms/step - loss: 3.3082 - sparse_categorical_accuracy: 0.3280\n",
            "49/49 [==============================] - 40s 815ms/step - loss: 2.5281 - sparse_categorical_accuracy: 0.5698 - val_loss: 3.3082 - val_sparse_categorical_accuracy: 0.3280\n",
            "Epoch 3/39\n",
            "5/5 [==============================] - 1s 220ms/step - loss: 3.0263 - sparse_categorical_accuracy: 0.3160\n",
            "49/49 [==============================] - 45s 925ms/step - loss: 2.2247 - sparse_categorical_accuracy: 0.6223 - val_loss: 3.0263 - val_sparse_categorical_accuracy: 0.3160\n",
            "Epoch 4/39\n",
            "5/5 [==============================] - 1s 213ms/step - loss: 3.8767 - sparse_categorical_accuracy: 0.1676\n",
            "49/49 [==============================] - 44s 890ms/step - loss: 2.0072 - sparse_categorical_accuracy: 0.6635 - val_loss: 3.8767 - val_sparse_categorical_accuracy: 0.1676\n",
            "Epoch 5/39\n",
            "5/5 [==============================] - 1s 226ms/step - loss: 2.4503 - sparse_categorical_accuracy: 0.4774\n",
            "49/49 [==============================] - 44s 898ms/step - loss: 1.8336 - sparse_categorical_accuracy: 0.6999 - val_loss: 2.4503 - val_sparse_categorical_accuracy: 0.4774\n",
            "Epoch 6/39\n",
            "5/5 [==============================] - 1s 211ms/step - loss: 2.1380 - sparse_categorical_accuracy: 0.5536\n",
            "49/49 [==============================] - 44s 897ms/step - loss: 1.6919 - sparse_categorical_accuracy: 0.7284 - val_loss: 2.1380 - val_sparse_categorical_accuracy: 0.5536\n",
            "Epoch 7/39\n",
            "5/5 [==============================] - 1s 208ms/step - loss: 1.6920 - sparse_categorical_accuracy: 0.7042\n",
            "49/49 [==============================] - 44s 906ms/step - loss: 1.5817 - sparse_categorical_accuracy: 0.7504 - val_loss: 1.6920 - val_sparse_categorical_accuracy: 0.7042\n",
            "Epoch 8/39\n",
            "5/5 [==============================] - 1s 221ms/step - loss: 2.0784 - sparse_categorical_accuracy: 0.5814\n",
            "49/49 [==============================] - 44s 905ms/step - loss: 1.4897 - sparse_categorical_accuracy: 0.7679 - val_loss: 2.0784 - val_sparse_categorical_accuracy: 0.5814\n",
            "Epoch 9/39\n",
            "5/5 [==============================] - 1s 214ms/step - loss: 1.7843 - sparse_categorical_accuracy: 0.6650\n",
            "49/49 [==============================] - 44s 893ms/step - loss: 1.4066 - sparse_categorical_accuracy: 0.7865 - val_loss: 1.7843 - val_sparse_categorical_accuracy: 0.6650\n",
            "Epoch 10/39\n",
            "5/5 [==============================] - 1s 220ms/step - loss: 1.7263 - sparse_categorical_accuracy: 0.6516\n",
            "49/49 [==============================] - 46s 929ms/step - loss: 1.3476 - sparse_categorical_accuracy: 0.7968 - val_loss: 1.7263 - val_sparse_categorical_accuracy: 0.6516\n",
            "Epoch 11/39\n",
            "5/5 [==============================] - 1s 233ms/step - loss: 1.9105 - sparse_categorical_accuracy: 0.6406\n",
            "49/49 [==============================] - 44s 890ms/step - loss: 1.2816 - sparse_categorical_accuracy: 0.8080 - val_loss: 1.9105 - val_sparse_categorical_accuracy: 0.6406\n",
            "Epoch 12/39\n",
            "5/5 [==============================] - 1s 229ms/step - loss: 1.6647 - sparse_categorical_accuracy: 0.6918\n",
            "49/49 [==============================] - 44s 905ms/step - loss: 1.2332 - sparse_categorical_accuracy: 0.8173 - val_loss: 1.6647 - val_sparse_categorical_accuracy: 0.6918\n",
            "Epoch 13/39\n",
            "5/5 [==============================] - 1s 212ms/step - loss: 1.4882 - sparse_categorical_accuracy: 0.7100\n",
            "49/49 [==============================] - 44s 895ms/step - loss: 1.1864 - sparse_categorical_accuracy: 0.8266 - val_loss: 1.4882 - val_sparse_categorical_accuracy: 0.7100\n",
            "Epoch 14/39\n",
            "5/5 [==============================] - 1s 227ms/step - loss: 1.5119 - sparse_categorical_accuracy: 0.7136\n",
            "49/49 [==============================] - 44s 907ms/step - loss: 1.1403 - sparse_categorical_accuracy: 0.8343 - val_loss: 1.5119 - val_sparse_categorical_accuracy: 0.7136\n",
            "Epoch 15/39\n",
            "5/5 [==============================] - 1s 223ms/step - loss: 1.3147 - sparse_categorical_accuracy: 0.7606\n",
            "49/49 [==============================] - 45s 911ms/step - loss: 1.1061 - sparse_categorical_accuracy: 0.8404 - val_loss: 1.3147 - val_sparse_categorical_accuracy: 0.7606\n",
            "Epoch 16/39\n",
            "5/5 [==============================] - 1s 230ms/step - loss: 1.2202 - sparse_categorical_accuracy: 0.7882\n",
            "49/49 [==============================] - 44s 898ms/step - loss: 1.0651 - sparse_categorical_accuracy: 0.8492 - val_loss: 1.2202 - val_sparse_categorical_accuracy: 0.7882\n",
            "Epoch 17/39\n",
            "5/5 [==============================] - 1s 216ms/step - loss: 1.2405 - sparse_categorical_accuracy: 0.7840\n",
            "49/49 [==============================] - 45s 922ms/step - loss: 1.0278 - sparse_categorical_accuracy: 0.8553 - val_loss: 1.2405 - val_sparse_categorical_accuracy: 0.7840\n",
            "Epoch 18/39\n",
            "5/5 [==============================] - 1s 225ms/step - loss: 1.2487 - sparse_categorical_accuracy: 0.7730\n",
            "49/49 [==============================] - 44s 902ms/step - loss: 1.0055 - sparse_categorical_accuracy: 0.8589 - val_loss: 1.2487 - val_sparse_categorical_accuracy: 0.7730\n",
            "Epoch 19/39\n",
            "5/5 [==============================] - 1s 222ms/step - loss: 1.2746 - sparse_categorical_accuracy: 0.7786\n",
            "49/49 [==============================] - 45s 909ms/step - loss: 0.9747 - sparse_categorical_accuracy: 0.8647 - val_loss: 1.2746 - val_sparse_categorical_accuracy: 0.7786\n",
            "Epoch 20/39\n",
            "5/5 [==============================] - 1s 224ms/step - loss: 1.1622 - sparse_categorical_accuracy: 0.7956\n",
            "49/49 [==============================] - 44s 905ms/step - loss: 0.9508 - sparse_categorical_accuracy: 0.8695 - val_loss: 1.1622 - val_sparse_categorical_accuracy: 0.7956\n",
            "Epoch 21/39\n",
            "5/5 [==============================] - 1s 224ms/step - loss: 1.2969 - sparse_categorical_accuracy: 0.7694\n",
            "49/49 [==============================] - 45s 921ms/step - loss: 0.9209 - sparse_categorical_accuracy: 0.8721 - val_loss: 1.2969 - val_sparse_categorical_accuracy: 0.7694\n",
            "Epoch 22/39\n",
            "5/5 [==============================] - 1s 223ms/step - loss: 1.0977 - sparse_categorical_accuracy: 0.8040\n",
            "49/49 [==============================] - 44s 906ms/step - loss: 0.9036 - sparse_categorical_accuracy: 0.8760 - val_loss: 1.0977 - val_sparse_categorical_accuracy: 0.8040\n",
            "Epoch 23/39\n",
            "5/5 [==============================] - 1s 210ms/step - loss: 1.0940 - sparse_categorical_accuracy: 0.8120\n",
            "49/49 [==============================] - 44s 906ms/step - loss: 0.8765 - sparse_categorical_accuracy: 0.8816 - val_loss: 1.0940 - val_sparse_categorical_accuracy: 0.8120\n",
            "Epoch 24/39\n",
            "5/5 [==============================] - 1s 216ms/step - loss: 1.4811 - sparse_categorical_accuracy: 0.6954\n",
            "49/49 [==============================] - 46s 929ms/step - loss: 0.8652 - sparse_categorical_accuracy: 0.8810 - val_loss: 1.4811 - val_sparse_categorical_accuracy: 0.6954\n",
            "Epoch 25/39\n",
            "5/5 [==============================] - 1s 228ms/step - loss: 0.9647 - sparse_categorical_accuracy: 0.8418\n",
            "49/49 [==============================] - 44s 904ms/step - loss: 0.8383 - sparse_categorical_accuracy: 0.8887 - val_loss: 0.9647 - val_sparse_categorical_accuracy: 0.8418\n",
            "Epoch 26/39\n",
            "5/5 [==============================] - 1s 216ms/step - loss: 1.0773 - sparse_categorical_accuracy: 0.8048\n",
            "49/49 [==============================] - 44s 900ms/step - loss: 0.8210 - sparse_categorical_accuracy: 0.8903 - val_loss: 1.0773 - val_sparse_categorical_accuracy: 0.8048\n",
            "Epoch 27/39\n",
            "5/5 [==============================] - 1s 239ms/step - loss: 1.1075 - sparse_categorical_accuracy: 0.7850\n",
            "49/49 [==============================] - 44s 902ms/step - loss: 0.8049 - sparse_categorical_accuracy: 0.8920 - val_loss: 1.1075 - val_sparse_categorical_accuracy: 0.7850\n",
            "Epoch 28/39\n",
            "5/5 [==============================] - 1s 226ms/step - loss: 0.8933 - sparse_categorical_accuracy: 0.8584\n",
            "49/49 [==============================] - 45s 910ms/step - loss: 0.7815 - sparse_categorical_accuracy: 0.8965 - val_loss: 0.8933 - val_sparse_categorical_accuracy: 0.8584\n",
            "Epoch 29/39\n",
            "5/5 [==============================] - 1s 210ms/step - loss: 1.2904 - sparse_categorical_accuracy: 0.7596\n",
            "49/49 [==============================] - 45s 917ms/step - loss: 0.7708 - sparse_categorical_accuracy: 0.8985 - val_loss: 1.2904 - val_sparse_categorical_accuracy: 0.7596\n",
            "Epoch 30/39\n",
            "5/5 [==============================] - 1s 222ms/step - loss: 1.5589 - sparse_categorical_accuracy: 0.6934\n",
            "49/49 [==============================] - 44s 899ms/step - loss: 0.7604 - sparse_categorical_accuracy: 0.8993 - val_loss: 1.5589 - val_sparse_categorical_accuracy: 0.6934\n",
            "Epoch 31/39\n",
            "5/5 [==============================] - 1s 228ms/step - loss: 0.9497 - sparse_categorical_accuracy: 0.8316\n",
            "49/49 [==============================] - 46s 930ms/step - loss: 0.7369 - sparse_categorical_accuracy: 0.9054 - val_loss: 0.9497 - val_sparse_categorical_accuracy: 0.8316\n",
            "Epoch 32/39\n",
            "5/5 [==============================] - 1s 233ms/step - loss: 0.9835 - sparse_categorical_accuracy: 0.8366\n",
            "49/49 [==============================] - 44s 907ms/step - loss: 0.7285 - sparse_categorical_accuracy: 0.9059 - val_loss: 0.9835 - val_sparse_categorical_accuracy: 0.8366\n",
            "Epoch 33/39\n",
            "5/5 [==============================] - 1s 222ms/step - loss: 0.9904 - sparse_categorical_accuracy: 0.8178\n",
            "49/49 [==============================] - 44s 895ms/step - loss: 0.7101 - sparse_categorical_accuracy: 0.9092 - val_loss: 0.9904 - val_sparse_categorical_accuracy: 0.8178\n",
            "Epoch 34/39\n",
            "5/5 [==============================] - 1s 214ms/step - loss: 1.0831 - sparse_categorical_accuracy: 0.8016\n",
            "49/49 [==============================] - 45s 910ms/step - loss: 0.7032 - sparse_categorical_accuracy: 0.9092 - val_loss: 1.0831 - val_sparse_categorical_accuracy: 0.8016\n",
            "Epoch 35/39\n",
            "5/5 [==============================] - 1s 223ms/step - loss: 1.2765 - sparse_categorical_accuracy: 0.7412\n",
            "49/49 [==============================] - 44s 903ms/step - loss: 0.6938 - sparse_categorical_accuracy: 0.9094 - val_loss: 1.2765 - val_sparse_categorical_accuracy: 0.7412\n",
            "Epoch 36/39\n",
            "5/5 [==============================] - 1s 219ms/step - loss: 0.8895 - sparse_categorical_accuracy: 0.8496\n",
            "49/49 [==============================] - 44s 902ms/step - loss: 0.6790 - sparse_categorical_accuracy: 0.9140 - val_loss: 0.8895 - val_sparse_categorical_accuracy: 0.8496\n",
            "Epoch 37/39\n",
            "5/5 [==============================] - 1s 226ms/step - loss: 1.0128 - sparse_categorical_accuracy: 0.8126\n",
            "49/49 [==============================] - 44s 905ms/step - loss: 0.6609 - sparse_categorical_accuracy: 0.9202 - val_loss: 1.0128 - val_sparse_categorical_accuracy: 0.8126\n",
            "Epoch 38/39\n",
            "5/5 [==============================] - 1s 218ms/step - loss: 0.9171 - sparse_categorical_accuracy: 0.8372\n",
            "49/49 [==============================] - 45s 922ms/step - loss: 0.6605 - sparse_categorical_accuracy: 0.9156 - val_loss: 0.9171 - val_sparse_categorical_accuracy: 0.8372\n",
            "Epoch 39/39\n",
            "5/5 [==============================] - 1s 236ms/step - loss: 0.8997 - sparse_categorical_accuracy: 0.8330\n",
            "49/49 [==============================] - 44s 901ms/step - loss: 0.6492 - sparse_categorical_accuracy: 0.9193 - val_loss: 0.8997 - val_sparse_categorical_accuracy: 0.8330\n"
          ],
          "name": "stdout"
        },
        {
          "output_type": "execute_result",
          "data": {
            "text/plain": [
              "<tensorflow.python.keras.callbacks.History at 0x7fcf211b3518>"
            ]
          },
          "metadata": {
            "tags": []
          },
          "execution_count": 25
        }
      ]
    },
    {
      "cell_type": "code",
      "metadata": {
        "id": "4bSsOc8-tflv",
        "colab_type": "code",
        "outputId": "9012ef02-ef60-48e5-b9fa-e311febc3613",
        "colab": {
          "base_uri": "https://localhost:8080/",
          "height": 368
        }
      },
      "source": [
        "resnet_model = tf.contrib.tpu.keras_to_tpu_model(\n",
        "    resnet_model.sync_to_cpu(),\n",
        "    strategy=tf.contrib.tpu.TPUDistributionStrategy(\n",
        "        tf.contrib.cluster_resolver.TPUClusterResolver(tpu='grpc://' + os.environ['COLAB_TPU_ADDR'])\n",
        "    )\n",
        ")\n",
        "resnet_model.compile(\n",
        "    optimizer=tf.train.AdamOptimizer(learning_rate=3e-5),\n",
        "    loss=tf.keras.losses.sparse_categorical_crossentropy,\n",
        "    metrics=['sparse_categorical_accuracy']\n",
        ")"
      ],
      "execution_count": 0,
      "outputs": [
        {
          "output_type": "stream",
          "text": [
            "INFO:tensorflow:Copying TPU weights to the CPU\n",
            "INFO:tensorflow:Querying Tensorflow master (grpc://10.85.110.178:8470) for TPU system metadata.\n",
            "INFO:tensorflow:Found TPU system:\n",
            "INFO:tensorflow:*** Num TPU Cores: 8\n",
            "INFO:tensorflow:*** Num TPU Workers: 1\n",
            "INFO:tensorflow:*** Num TPU Cores Per Worker: 8\n",
            "INFO:tensorflow:*** Available Device: _DeviceAttributes(/job:worker/replica:0/task:0/device:CPU:0, CPU, -1, 10447589990399745755)\n",
            "INFO:tensorflow:*** Available Device: _DeviceAttributes(/job:worker/replica:0/task:0/device:XLA_CPU:0, XLA_CPU, 17179869184, 1023127219608061129)\n",
            "INFO:tensorflow:*** Available Device: _DeviceAttributes(/job:worker/replica:0/task:0/device:TPU:0, TPU, 17179869184, 4448951322304478444)\n",
            "INFO:tensorflow:*** Available Device: _DeviceAttributes(/job:worker/replica:0/task:0/device:TPU:1, TPU, 17179869184, 5429575976036176408)\n",
            "INFO:tensorflow:*** Available Device: _DeviceAttributes(/job:worker/replica:0/task:0/device:TPU:2, TPU, 17179869184, 7858007824624927224)\n",
            "INFO:tensorflow:*** Available Device: _DeviceAttributes(/job:worker/replica:0/task:0/device:TPU:3, TPU, 17179869184, 10133592829226009250)\n",
            "INFO:tensorflow:*** Available Device: _DeviceAttributes(/job:worker/replica:0/task:0/device:TPU:4, TPU, 17179869184, 12717714994154225019)\n",
            "INFO:tensorflow:*** Available Device: _DeviceAttributes(/job:worker/replica:0/task:0/device:TPU:5, TPU, 17179869184, 18040394914887073113)\n",
            "INFO:tensorflow:*** Available Device: _DeviceAttributes(/job:worker/replica:0/task:0/device:TPU:6, TPU, 17179869184, 10935008666763899743)\n",
            "INFO:tensorflow:*** Available Device: _DeviceAttributes(/job:worker/replica:0/task:0/device:TPU:7, TPU, 17179869184, 5250134107826257355)\n",
            "INFO:tensorflow:*** Available Device: _DeviceAttributes(/job:worker/replica:0/task:0/device:TPU_SYSTEM:0, TPU_SYSTEM, 17179869184, 16699338160733944533)\n",
            "WARNING:tensorflow:tpu_model (from tensorflow.contrib.tpu.python.tpu.keras_support) is experimental and may change or be removed at any time, and without warning.\n"
          ],
          "name": "stdout"
        }
      ]
    },
    {
      "cell_type": "code",
      "metadata": {
        "id": "kezjnznUtigI",
        "colab_type": "code",
        "outputId": "8207ab69-8e76-4294-f35a-c58be9800e22",
        "colab": {
          "base_uri": "https://localhost:8080/",
          "height": 1543
        }
      },
      "source": [
        "# Training\n",
        "resnet_model.fit_generator(\n",
        "    train_gen,\n",
        "    epochs=20,\n",
        "    validation_data=valid_gen,\n",
        "    workers=2, use_multiprocessing=False,\n",
        "    callbacks=callbacks)"
      ],
      "execution_count": 0,
      "outputs": [
        {
          "output_type": "stream",
          "text": [
            "Epoch 1/20\n",
            "INFO:tensorflow:New input shapes; (re-)compiling: mode=train (# of cores 8), [TensorSpec(shape=(128,), dtype=tf.int32, name='core_id_20'), TensorSpec(shape=(128, 32, 32, 3), dtype=tf.float32, name='input_2_20'), TensorSpec(shape=(128, 1), dtype=tf.int32, name='dense_1_target_60')]\n",
            "INFO:tensorflow:Overriding default placeholder.\n",
            "INFO:tensorflow:Remapping placeholder for input_2\n",
            "INFO:tensorflow:Started compiling\n",
            "INFO:tensorflow:Finished compiling. Time elapsed: 273.1299786567688 secs\n",
            "INFO:tensorflow:Setting weights on TPU model.\n",
            "16/49 [========>.....................] - ETA: 17:50 - loss: 0.6092 - sparse_categorical_accuracy: 0.9311INFO:tensorflow:New input shapes; (re-)compiling: mode=train (# of cores 8), [TensorSpec(shape=(106,), dtype=tf.int32, name='core_id_20'), TensorSpec(shape=(106, 32, 32, 3), dtype=tf.float32, name='input_2_20'), TensorSpec(shape=(106, 1), dtype=tf.int32, name='dense_1_target_60')]\n",
            "INFO:tensorflow:Overriding default placeholder.\n",
            "INFO:tensorflow:Remapping placeholder for input_2\n",
            "INFO:tensorflow:Started compiling\n",
            "INFO:tensorflow:Finished compiling. Time elapsed: 246.70903301239014 secs\n",
            "48/49 [============================>.] - ETA: 17s - loss: 0.5902 - sparse_categorical_accuracy: 0.9389INFO:tensorflow:New input shapes; (re-)compiling: mode=eval (# of cores 8), [TensorSpec(shape=(128,), dtype=tf.int32, name='core_id_30'), TensorSpec(shape=(128, 32, 32, 3), dtype=tf.float32, name='input_2_20'), TensorSpec(shape=(128, 1), dtype=tf.int32, name='dense_1_target_60')]\n",
            "INFO:tensorflow:Overriding default placeholder.\n",
            "INFO:tensorflow:Remapping placeholder for input_2\n",
            "INFO:tensorflow:Started compiling\n",
            "INFO:tensorflow:Finished compiling. Time elapsed: 236.36868929862976 secs\n",
            "4/5 [=======================>......] - ETA: 1:03 - loss: 0.7109 - sparse_categorical_accuracy: 0.8955INFO:tensorflow:New input shapes; (re-)compiling: mode=eval (# of cores 8), [TensorSpec(shape=(113,), dtype=tf.int32, name='core_id_30'), TensorSpec(shape=(113, 32, 32, 3), dtype=tf.float32, name='input_2_20'), TensorSpec(shape=(113, 1), dtype=tf.int32, name='dense_1_target_60')]\n",
            "INFO:tensorflow:Overriding default placeholder.\n",
            "INFO:tensorflow:Remapping placeholder for input_2\n",
            "INFO:tensorflow:Started compiling\n",
            "INFO:tensorflow:Finished compiling. Time elapsed: 243.03803324699402 secs\n",
            "5/5 [==============================] - 518s 104s/step - loss: 0.7074 - sparse_categorical_accuracy: 0.8976\n",
            "49/49 [==============================] - 1554s 32s/step - loss: 0.5899 - sparse_categorical_accuracy: 0.9392 - val_loss: 0.7074 - val_sparse_categorical_accuracy: 0.8976\n",
            "Epoch 2/20\n",
            "5/5 [==============================] - 1s 258ms/step - loss: 0.6905 - sparse_categorical_accuracy: 0.9036\n",
            "49/49 [==============================] - 41s 840ms/step - loss: 0.5590 - sparse_categorical_accuracy: 0.9498 - val_loss: 0.6905 - val_sparse_categorical_accuracy: 0.9036\n",
            "Epoch 3/20\n",
            "5/5 [==============================] - 1s 243ms/step - loss: 0.6776 - sparse_categorical_accuracy: 0.9088\n",
            "49/49 [==============================] - 46s 938ms/step - loss: 0.5502 - sparse_categorical_accuracy: 0.9517 - val_loss: 0.6776 - val_sparse_categorical_accuracy: 0.9088\n",
            "Epoch 4/20\n",
            "5/5 [==============================] - 1s 247ms/step - loss: 0.6664 - sparse_categorical_accuracy: 0.9118\n",
            "49/49 [==============================] - 46s 935ms/step - loss: 0.5419 - sparse_categorical_accuracy: 0.9570 - val_loss: 0.6664 - val_sparse_categorical_accuracy: 0.9118\n",
            "Epoch 5/20\n",
            "5/5 [==============================] - 1s 245ms/step - loss: 0.6620 - sparse_categorical_accuracy: 0.9140\n",
            "49/49 [==============================] - 47s 954ms/step - loss: 0.5346 - sparse_categorical_accuracy: 0.9576 - val_loss: 0.6620 - val_sparse_categorical_accuracy: 0.9140\n",
            "Epoch 6/20\n",
            "5/5 [==============================] - 1s 253ms/step - loss: 0.6525 - sparse_categorical_accuracy: 0.9148\n",
            "49/49 [==============================] - 46s 932ms/step - loss: 0.5296 - sparse_categorical_accuracy: 0.9592 - val_loss: 0.6525 - val_sparse_categorical_accuracy: 0.9148\n",
            "Epoch 7/20\n",
            "5/5 [==============================] - 1s 241ms/step - loss: 0.6515 - sparse_categorical_accuracy: 0.9136\n",
            "49/49 [==============================] - 46s 939ms/step - loss: 0.5243 - sparse_categorical_accuracy: 0.9612 - val_loss: 0.6515 - val_sparse_categorical_accuracy: 0.9136\n",
            "Epoch 8/20\n",
            "5/5 [==============================] - 1s 244ms/step - loss: 0.6470 - sparse_categorical_accuracy: 0.9176\n",
            "49/49 [==============================] - 45s 920ms/step - loss: 0.5230 - sparse_categorical_accuracy: 0.9602 - val_loss: 0.6470 - val_sparse_categorical_accuracy: 0.9176\n",
            "Epoch 9/20\n",
            "5/5 [==============================] - 1s 254ms/step - loss: 0.6487 - sparse_categorical_accuracy: 0.9162\n",
            "49/49 [==============================] - 46s 930ms/step - loss: 0.5185 - sparse_categorical_accuracy: 0.9625 - val_loss: 0.6487 - val_sparse_categorical_accuracy: 0.9162\n",
            "Epoch 10/20\n",
            "5/5 [==============================] - 1s 240ms/step - loss: 0.6520 - sparse_categorical_accuracy: 0.9154\n",
            "49/49 [==============================] - 45s 920ms/step - loss: 0.5128 - sparse_categorical_accuracy: 0.9640 - val_loss: 0.6520 - val_sparse_categorical_accuracy: 0.9154\n",
            "Epoch 11/20\n",
            "5/5 [==============================] - 1s 239ms/step - loss: 0.6470 - sparse_categorical_accuracy: 0.9194\n",
            "49/49 [==============================] - 45s 926ms/step - loss: 0.5121 - sparse_categorical_accuracy: 0.9638 - val_loss: 0.6470 - val_sparse_categorical_accuracy: 0.9194\n",
            "Epoch 12/20\n",
            "5/5 [==============================] - 1s 234ms/step - loss: 0.6474 - sparse_categorical_accuracy: 0.9168\n",
            "49/49 [==============================] - 46s 945ms/step - loss: 0.5107 - sparse_categorical_accuracy: 0.9648 - val_loss: 0.6474 - val_sparse_categorical_accuracy: 0.9168\n",
            "Epoch 13/20\n",
            "5/5 [==============================] - 1s 238ms/step - loss: 0.6463 - sparse_categorical_accuracy: 0.9178\n",
            "49/49 [==============================] - 45s 921ms/step - loss: 0.5063 - sparse_categorical_accuracy: 0.9656 - val_loss: 0.6463 - val_sparse_categorical_accuracy: 0.9178\n",
            "Epoch 14/20\n",
            "5/5 [==============================] - 1s 246ms/step - loss: 0.6468 - sparse_categorical_accuracy: 0.9174\n",
            "49/49 [==============================] - 46s 939ms/step - loss: 0.5039 - sparse_categorical_accuracy: 0.9667 - val_loss: 0.6468 - val_sparse_categorical_accuracy: 0.9174\n",
            "Epoch 15/20\n",
            "5/5 [==============================] - 1s 250ms/step - loss: 0.6482 - sparse_categorical_accuracy: 0.9164\n",
            "49/49 [==============================] - 45s 915ms/step - loss: 0.5013 - sparse_categorical_accuracy: 0.9675 - val_loss: 0.6482 - val_sparse_categorical_accuracy: 0.9164\n",
            "Epoch 16/20\n",
            "5/5 [==============================] - 1s 251ms/step - loss: 0.6506 - sparse_categorical_accuracy: 0.9170\n",
            "49/49 [==============================] - 45s 922ms/step - loss: 0.4991 - sparse_categorical_accuracy: 0.9675 - val_loss: 0.6506 - val_sparse_categorical_accuracy: 0.9170\n",
            "Epoch 17/20\n",
            "5/5 [==============================] - 1s 234ms/step - loss: 0.6448 - sparse_categorical_accuracy: 0.9172\n",
            "49/49 [==============================] - 45s 923ms/step - loss: 0.4970 - sparse_categorical_accuracy: 0.9685 - val_loss: 0.6448 - val_sparse_categorical_accuracy: 0.9172\n",
            "Epoch 18/20\n",
            "5/5 [==============================] - 1s 237ms/step - loss: 0.6463 - sparse_categorical_accuracy: 0.9188\n",
            "49/49 [==============================] - 45s 925ms/step - loss: 0.4936 - sparse_categorical_accuracy: 0.9691 - val_loss: 0.6463 - val_sparse_categorical_accuracy: 0.9188\n",
            "Epoch 19/20\n",
            "5/5 [==============================] - 1s 250ms/step - loss: 0.6457 - sparse_categorical_accuracy: 0.9162\n",
            "49/49 [==============================] - 47s 950ms/step - loss: 0.4944 - sparse_categorical_accuracy: 0.9681 - val_loss: 0.6457 - val_sparse_categorical_accuracy: 0.9162\n",
            "Epoch 20/20\n",
            "5/5 [==============================] - 1s 247ms/step - loss: 0.6438 - sparse_categorical_accuracy: 0.9186\n",
            "49/49 [==============================] - 45s 919ms/step - loss: 0.4937 - sparse_categorical_accuracy: 0.9685 - val_loss: 0.6438 - val_sparse_categorical_accuracy: 0.9186\n"
          ],
          "name": "stdout"
        },
        {
          "output_type": "execute_result",
          "data": {
            "text/plain": [
              "<tensorflow.python.keras.callbacks.History at 0x7fcedd9b4668>"
            ]
          },
          "metadata": {
            "tags": []
          },
          "execution_count": 27
        }
      ]
    },
    {
      "cell_type": "markdown",
      "metadata": {
        "id": "QG-vhJ14RkBy",
        "colab_type": "text"
      },
      "source": [
        "# Visualization of confusion matrix\n",
        "\n",
        "The below code takes a confusion matrix and produces a nice and shiny visualization"
      ]
    },
    {
      "cell_type": "code",
      "metadata": {
        "id": "UiKRYOWPfhJs",
        "colab_type": "code",
        "colab": {}
      },
      "source": [
        "def plot_confusion_matrix(cm, classes,\n",
        "                          normalize=False,\n",
        "                          title='Confusion matrix',\n",
        "                          cmap=plt.cm.Blues):\n",
        "    \"\"\"\n",
        "    This function prints and plots the confusion matrix.\n",
        "    Normalization can be applied by setting `normalize=True`.\n",
        "    \"\"\"\n",
        "    if normalize:\n",
        "        cm = cm.astype('float') / cm.sum(axis=1)[:, np.newaxis]\n",
        "        print(\"Normalized confusion matrix\")\n",
        "    else:\n",
        "        print('Confusion matrix, without normalization')\n",
        "\n",
        "    print(cm)\n",
        "\n",
        "    plt.imshow(cm, interpolation='nearest', cmap=cmap)\n",
        "    plt.title(title)\n",
        "    plt.colorbar()\n",
        "    tick_marks = np.arange(len(classes))\n",
        "    plt.xticks(tick_marks, classes, rotation=45)\n",
        "    plt.yticks(tick_marks, classes)\n",
        "\n",
        "    fmt = '.2f' if normalize else 'd'\n",
        "    thresh = cm.max() / 2.\n",
        "    for i, j in itertools.product(range(cm.shape[0]), range(cm.shape[1])):\n",
        "        plt.text(j, i, format(cm[i, j], fmt),\n",
        "                 horizontalalignment=\"center\",\n",
        "                 color=\"white\" if cm[i, j] > thresh else \"black\")\n",
        "\n",
        "    plt.ylabel('True label')\n",
        "    plt.xlabel('Predicted label')\n",
        "    plt.tight_layout()"
      ],
      "execution_count": 0,
      "outputs": []
    },
    {
      "cell_type": "code",
      "metadata": {
        "id": "BqY-vngiRoTZ",
        "colab_type": "code",
        "outputId": "c86976ac-cb88-4252-9f0e-186c2c674c86",
        "colab": {
          "base_uri": "https://localhost:8080/",
          "height": 640
        }
      },
      "source": [
        "# Testing data\n",
        "x_test, y_test = load_testing_data()\n",
        "test_gen = CIFAR10Sequence(x_test, y_test, hparams.val_batch_size, augmentations=AUGMENTATIONS_TEST)\n",
        "\n",
        "cpu_model = resnet_model.sync_to_cpu()\n",
        "results = cpu_model.predict_generator(test_gen)\n",
        "\n",
        "# convert from class probabilities to actual class predictions\n",
        "predicted_classes = np.argmax(results, axis=1)\n",
        "\n",
        "# Names of predicted classes\n",
        "class_names = [\"airplane\", \"automobile\", \"bird\", \"cat\", \"deer\", \"dog\", \"frog\", \"horse\", \"ship\", \"truck\"]\n",
        "\n",
        "# Generate the confusion matrix\n",
        "cnf_matrix = confusion_matrix(y_test, predicted_classes)\n",
        "\n",
        "# Plot non-normalized confusion matrix\n",
        "plt.figure()\n",
        "plot_confusion_matrix(cnf_matrix, classes=class_names,\n",
        "                      title='Confusion matrix, without normalization')\n",
        "\n",
        "plt.show()"
      ],
      "execution_count": 0,
      "outputs": [
        {
          "output_type": "stream",
          "text": [
            "Loading data: /tmp/cifar-data/cifar-10-batches-py/test_batch\n",
            "INFO:tensorflow:Copying TPU weights to the CPU\n",
            "Confusion matrix, without normalization\n",
            "[[452   4   5   3   2   0   2   1  13   6]\n",
            " [  2 486   0   0   0   0   1   0   2  14]\n",
            " [ 17   0 448  11  12   7   9   4   2   2]\n",
            " [  4   1   9 413  14  34   9  10   1   2]\n",
            " [  0   1   7   4 480   7   6   2   0   0]\n",
            " [  3   3   8  31   8 423   1   8   0   3]\n",
            " [  2   1   7   9   2   1 468   0   0   1]\n",
            " [  4   0   4   4   9   3   0 470   0   1]\n",
            " [  8   2   2   0   0   0   0   1 486   5]\n",
            " [  7  16   0   0   1   0   1   0   4 484]]\n"
          ],
          "name": "stdout"
        },
        {
          "output_type": "display_data",
          "data": {
            "image/png": "[encoded data removed]",
            "text/plain": [
              "<Figure size 576x396 with 2 Axes>"
            ]
          },
          "metadata": {
            "tags": []
          }
        }
      ]
    },
    {
      "cell_type": "code",
      "metadata": {
        "id": "emBxZoMO0TS4",
        "colab_type": "code",
        "outputId": "4d73d9f1-5d2b-4fcb-c57a-5eaff78b8a58",
        "colab": {
          "base_uri": "https://localhost:8080/",
          "height": 35
        }
      },
      "source": [
        "print(\"Test Accuracy: %.2f%%\" % (sum(y_test == predicted_classes) * 100. / y_test.shape[0]))"
      ],
      "execution_count": 0,
      "outputs": [
        {
          "output_type": "stream",
          "text": [
            "Test Accuracy: 92.20%\n"
          ],
          "name": "stdout"
        }
      ]
    }
  ]
}